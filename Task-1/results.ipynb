{
 "cells": [
  {
   "cell_type": "code",
   "execution_count": 1,
   "id": "ae37de2a",
   "metadata": {},
   "outputs": [
    {
     "name": "stdout",
     "output_type": "stream",
     "text": [
      "usage: inforet.py [-h] [--patent-section PATENT_SECTION]\n",
      "                  [--similarity-method SIMILARITY_METHOD]\n",
      "                  [--batch-size BATCH_SIZE] [--model MODEL]\n",
      "                  [--output-json OUTPUT_JSON]\n",
      "\n",
      "Patent similarity embeddings and evaluation script\n",
      "\n",
      "options:\n",
      "  -h, --help            show this help message and exit\n",
      "  --patent-section PATENT_SECTION\n",
      "                        The patent section to use (default: 'title')\n",
      "  --similarity-method SIMILARITY_METHOD\n",
      "                        Similarity method to use: choose among\n",
      "                        'euclidean_distances', 'cosine_similarity', or\n",
      "                        'linear_kernel' (default: 'cosine_similarity')\n",
      "  --batch-size BATCH_SIZE\n",
      "                        Batch size used during embedding (default: 512)\n",
      "  --model MODEL         Model name for SentenceTransformer (default:\n",
      "                        'BAAI/bge-large-en-v1.5')\n",
      "  --output-json OUTPUT_JSON\n",
      "                        Output JSON file name (default: 'prediction1.json')\n"
     ]
    }
   ],
   "source": [
    "!python inforet.py --help"
   ]
  },
  {
   "cell_type": "code",
   "execution_count": 2,
   "id": "e4049452",
   "metadata": {},
   "outputs": [
    {
     "name": "stdout",
     "output_type": "stream",
     "text": [
      "Number of documents without title: 0\n",
      "Number of documents without title: 0\n",
      "Number of documents without title: 0\n",
      "First cited full text snippet: VEHICLE WITH LOCKABLE TILT SYSTEM\n",
      "Generating \"title\" embeddings for cited patents...\n",
      "Batches: 100%|████████████████████████████████| 264/264 [03:32<00:00,  1.24it/s]\n",
      "Generating \"title\" embeddings for citing patents (TRAIN set)...\n",
      "Batches: 100%|████████████████████████████████| 107/107 [01:22<00:00,  1.30it/s]\n",
      "\n",
      "Neural \"BAAI/bge-large-en-v1.5\" Embedding Approach using title:\n",
      "Recall at 10: 0.355\n",
      "Recall at 20: 0.4368\n",
      "Recall at 50: 0.5414\n",
      "Recall at 100: 0.6273\n",
      "Mean ranking: 49.2896\n",
      "Mean average precision: 0.2126\n",
      "Number of patents measured: 6831\n",
      "Number of patents not in the citation mapping: 0\n",
      "\n",
      "Generating \"title\" embeddings for citing patents (TEST set)...\n",
      "Batches: 100%|██████████████████████████████████| 16/16 [00:14<00:00,  1.14it/s]\n"
     ]
    }
   ],
   "source": [
    "!python inforet.py --model BAAI/bge-large-en-v1.5 --patent-section title"
   ]
  },
  {
   "cell_type": "code",
   "execution_count": 4,
   "id": "778c6091",
   "metadata": {},
   "outputs": [
    {
     "name": "stdout",
     "output_type": "stream",
     "text": [
      "Number of documents without title: 0\n",
      "Number of documents without title: 0\n",
      "Number of documents without title: 0\n",
      "modules.json: 100%|█████████████████████████████| 229/229 [00:00<00:00, 736kB/s]\n",
      "config_sentence_transformers.json: 100%|████████| 116/116 [00:00<00:00, 660kB/s]\n",
      "README.md: 100%|███████████████████████████| 3.88k/3.88k [00:00<00:00, 20.0MB/s]\n",
      "sentence_bert_config.json: 100%|██████████████| 53.0/53.0 [00:00<00:00, 194kB/s]\n",
      "config.json: 100%|█████████████████████████████| 190/190 [00:00<00:00, 1.35MB/s]\n",
      "First cited full text snippet: VEHICLE WITH LOCKABLE TILT SYSTEM\n",
      "Generating \"title\" embeddings for cited patents...\n",
      "Batches: 100%|████████████████████████████████| 264/264 [01:17<00:00,  3.39it/s]\n",
      "Generating \"title\" embeddings for citing patents (TRAIN set)...\n",
      "Batches: 100%|████████████████████████████████| 107/107 [00:29<00:00,  3.61it/s]\n",
      "\n",
      "Neural \"AI-Growth-Lab/PatentSBERTa\" Embedding Approach using title:\n",
      "Recall at 10: 0.3099\n",
      "Recall at 20: 0.3766\n",
      "Recall at 50: 0.4838\n",
      "Recall at 100: 0.5608\n",
      "Mean ranking: 55.005\n",
      "Mean average precision: 0.1894\n",
      "Number of patents measured: 6831\n",
      "Number of patents not in the citation mapping: 0\n",
      "\n",
      "Generating \"title\" embeddings for citing patents (TEST set)...\n",
      "Batches: 100%|██████████████████████████████████| 16/16 [00:04<00:00,  3.73it/s]\n"
     ]
    }
   ],
   "source": [
    "!python inforet.py --model AI-Growth-Lab/PatentSBERTa --patent-section title"
   ]
  },
  {
   "cell_type": "code",
   "execution_count": 6,
   "id": "ce6b3a6e",
   "metadata": {},
   "outputs": [
    {
     "name": "stdout",
     "output_type": "stream",
     "text": [
      "Number of documents without title: 0\n",
      "Number of documents without title: 0\n",
      "Number of documents without title: 0\n",
      "modules.json: 100%|█████████████████████████████| 349/349 [00:00<00:00, 799kB/s]\n",
      "config_sentence_transformers.json: 100%|████████| 116/116 [00:00<00:00, 648kB/s]\n",
      "README.md: 100%|███████████████████████████| 10.5k/10.5k [00:00<00:00, 31.3MB/s]\n",
      "sentence_bert_config.json: 100%|██████████████| 53.0/53.0 [00:00<00:00, 368kB/s]\n",
      "config.json: 100%|█████████████████████████████| 615/615 [00:00<00:00, 3.82MB/s]\n",
      "model.safetensors: 100%|██████████████████████| 133M/133M [03:57<00:00, 562kB/s]\n",
      "tokenizer_config.json: 100%|███████████████████| 352/352 [00:00<00:00, 2.33MB/s]\n",
      "vocab.txt: 100%|██████████████████████████████| 232k/232k [00:00<00:00, 433kB/s]\n",
      "tokenizer.json: 100%|█████████████████████████| 466k/466k [00:00<00:00, 731kB/s]\n",
      "special_tokens_map.json: 100%|██████████████████| 112/112 [00:00<00:00, 696kB/s]\n",
      "config.json: 100%|█████████████████████████████| 190/190 [00:00<00:00, 1.50MB/s]\n",
      "First cited full text snippet: VEHICLE WITH LOCKABLE TILT SYSTEM\n",
      "Generating \"title\" embeddings for cited patents...\n",
      "Batches: 100%|████████████████████████████████| 264/264 [00:24<00:00, 10.89it/s]\n",
      "Generating \"title\" embeddings for citing patents (TRAIN set)...\n",
      "Batches: 100%|████████████████████████████████| 107/107 [00:08<00:00, 12.79it/s]\n",
      "\n",
      "Neural \"sentence-transformers/all-MiniLM-L12-v2\" Embedding Approach using title:\n",
      "Recall at 10: 0.3296\n",
      "Recall at 20: 0.4009\n",
      "Recall at 50: 0.5076\n",
      "Recall at 100: 0.5884\n",
      "Mean ranking: 52.7211\n",
      "Mean average precision: 0.198\n",
      "Number of patents measured: 6831\n",
      "Number of patents not in the citation mapping: 0\n",
      "\n",
      "Generating \"title\" embeddings for citing patents (TEST set)...\n",
      "Batches: 100%|██████████████████████████████████| 16/16 [00:01<00:00, 11.68it/s]\n"
     ]
    }
   ],
   "source": [
    "!python inforet.py --model sentence-transformers/all-MiniLM-L12-v2 --patent-section title"
   ]
  },
  {
   "cell_type": "code",
   "execution_count": 7,
   "id": "7aa23f22",
   "metadata": {},
   "outputs": [
    {
     "name": "stdout",
     "output_type": "stream",
     "text": [
      "Number of documents without title: 0\n",
      "Number of documents without title: 0\n",
      "Number of documents without title: 0\n",
      "First cited full text snippet: VEHICLE WITH LOCKABLE TILT SYSTEM\n",
      "Generating \"title\" embeddings for cited patents...\n",
      "Batches: 100%|████████████████████████████████| 264/264 [01:19<00:00,  3.32it/s]\n",
      "Generating \"title\" embeddings for citing patents (TRAIN set)...\n",
      "Batches: 100%|████████████████████████████████| 107/107 [00:28<00:00,  3.71it/s]\n",
      "\n",
      "Neural \"sentence-transformers/all-mpnet-base-v2\" Embedding Approach using title:\n",
      "Recall at 10: 0.3433\n",
      "Recall at 20: 0.4148\n",
      "Recall at 50: 0.5241\n",
      "Recall at 100: 0.6106\n",
      "Mean ranking: 50.9299\n",
      "Mean average precision: 0.2042\n",
      "Number of patents measured: 6831\n",
      "Number of patents not in the citation mapping: 0\n",
      "\n",
      "Generating \"title\" embeddings for citing patents (TEST set)...\n",
      "Batches: 100%|██████████████████████████████████| 16/16 [00:05<00:00,  3.02it/s]\n"
     ]
    }
   ],
   "source": [
    "!python inforet.py --model sentence-transformers/all-mpnet-base-v2 --patent-section title"
   ]
  },
  {
   "cell_type": "code",
   "execution_count": null,
   "id": "fe79b673",
   "metadata": {},
   "outputs": [],
   "source": [
    "!python inforet.py --model BAAI/bge-large-en-v1.5 --patent-section description"
   ]
  },
  {
   "cell_type": "code",
   "execution_count": null,
   "id": "821c3277",
   "metadata": {},
   "outputs": [],
   "source": [
    "!python inforet.py --model AI-Growth-Lab/PatentSBERTa --patent-section description"
   ]
  },
  {
   "cell_type": "code",
   "execution_count": null,
   "id": "2fdecac9",
   "metadata": {},
   "outputs": [],
   "source": [
    "!python inforet.py --model sentence-transformers/all-MiniLM-L12-v2 --patent-section description"
   ]
  },
  {
   "cell_type": "code",
   "execution_count": null,
   "id": "b8151c9c",
   "metadata": {},
   "outputs": [],
   "source": [
    "!python inforet.py --model sentence-transformers/all-mpnet-base-v2 --patent-section description"
   ]
  }
 ],
 "metadata": {
  "kernelspec": {
   "display_name": ".venv",
   "language": "python",
   "name": "python3"
  },
  "language_info": {
   "codemirror_mode": {
    "name": "ipython",
    "version": 3
   },
   "file_extension": ".py",
   "mimetype": "text/x-python",
   "name": "python",
   "nbconvert_exporter": "python",
   "pygments_lexer": "ipython3",
   "version": "3.12.2"
  }
 },
 "nbformat": 4,
 "nbformat_minor": 5
}
